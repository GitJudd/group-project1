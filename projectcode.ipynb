{
 "cells": [
  {
   "cell_type": "code",
   "execution_count": 13,
   "metadata": {},
   "outputs": [],
   "source": [
    "import numpy as np\n",
    "import pandas as pd\n",
    "import matplotlib\n",
    "from matplotlib import pyplot as plt"
   ]
  },
  {
   "cell_type": "code",
   "execution_count": 21,
   "metadata": {},
   "outputs": [],
   "source": [
    "college_df = pd.read_csv('Resources/salaries_by_college_type_data.csv')\n",
    "region_df = pd.read_csv('Resources/salaries_by_region_data.csv')\n",
    "majors_df = pd.read_csv('Resources/degrees_that_pay_back_data.csv')\n",
    "\n",
    "datasets_list = [college_df, region_df, majors_df]"
   ]
  },
  {
   "cell_type": "code",
   "execution_count": 22,
   "metadata": {},
   "outputs": [],
   "source": [
    "college_columns = {\n",
    "    \"School Name\" : \"name\",\n",
    "    \"School Type\" : \"type\",\n",
    "    \"Starting Median Salary\" : \"start_p50\",\n",
    "    \"Mid-Career Median Salary\" : \"mid_p50\",\n",
    "    \"Mid-Career 10th Percentile Salary\" : \"mid_p10\",\n",
    "    \"Mid-Career 25th Percentile Salary\" : \"mid_p25\",\n",
    "    \"Mid-Career 75th Percentile Salary\" : \"mid_p75\",\n",
    "    \"Mid-Career 90th Percentile Salary\" : \"mid_p90\"\n",
    "}\n",
    "\n",
    "college_df.rename(columns=college_columns, inplace=True)\n",
    "\n",
    "region_columns = {\n",
    "    \"School Name\" : \"name\",\n",
    "    \"Region\" : \"region\",\n",
    "    \"Starting Median Salary\" : \"start_p50\",\n",
    "    \"Mid-Career Median Salary\" : \"mid_p50\",\n",
    "    \"Mid-Career 10th Percentile Salary\" : \"mid_p10\",\n",
    "    \"Mid-Career 25th Percentile Salary\" : \"mid_p25\",\n",
    "    \"Mid-Career 75th Percentile Salary\" : \"mid_p75\",\n",
    "    \"Mid-Career 90th Percentile Salary\" : \"mid_p90\"\n",
    "}\n",
    "\n",
    "region_df.rename(columns=region_columns, inplace=True)\n",
    "\n",
    "majors_columns = {\n",
    "    \"Undergraduate Major\" : \"name\",\n",
    "    \"Starting Median Salary\" : \"start_p50\",\n",
    "    \"Mid-Career Median Salary\" : \"mid_p50\",\n",
    "    \"Percent change from Starting to Mid-Career Salary\" : \"increase\",\n",
    "    \"Mid-Career 10th Percentile Salary\" : \"mid_p10\",\n",
    "    \"Mid-Career 25th Percentile Salary\" : \"mid_p25\",\n",
    "    \"Mid-Career 75th Percentile Salary\" : \"mid_p75\",\n",
    "    \"Mid-Career 90th Percentile Salary\" : \"mid_p90\"\n",
    "}\n",
    "\n",
    "majors_df.rename(columns=majors_columns, inplace=True)"
   ]
  },
  {
   "cell_type": "code",
   "execution_count": 24,
   "metadata": {},
   "outputs": [],
   "source": [
    "selected_columns = [\"start_p50\", \"mid_p50\", \"mid_p10\", \"mid_p25\", \"mid_p75\", \"mid_p90\"]\n",
    "\n",
    "for dataset in datasets_list:\n",
    "    for column in selected_columns:\n",
    "        dataset[column] = dataset[column].str.replace(\"$\",\"\")\n",
    "        dataset[column] = dataset[column].str.replace(\",\",\"\")\n",
    "        dataset[column] = pd.to_numeric(dataset[column])"
   ]
  },
  {
   "cell_type": "code",
   "execution_count": null,
   "metadata": {},
   "outputs": [],
   "source": [
    "# FIRST HYPOTHESIS: Ivy League schools will produce higher starting salaries and "
   ]
  }
 ],
 "metadata": {
  "kernelspec": {
   "display_name": "Python 3",
   "language": "python",
   "name": "python3"
  },
  "language_info": {
   "codemirror_mode": {
    "name": "ipython",
    "version": 3
   },
   "file_extension": ".py",
   "mimetype": "text/x-python",
   "name": "python",
   "nbconvert_exporter": "python",
   "pygments_lexer": "ipython3",
   "version": "3.7.6"
  }
 },
 "nbformat": 4,
 "nbformat_minor": 4
}
